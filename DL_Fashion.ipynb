{
 "cells": [
  {
   "cell_type": "code",
   "execution_count": 1,
   "metadata": {
    "executionInfo": {
     "elapsed": 5765,
     "status": "ok",
     "timestamp": 1702497737750,
     "user": {
      "displayName": "205105 205105",
      "userId": "02582205350892334800"
     },
     "user_tz": -120
    },
    "id": "p73V0VN3bZFQ"
   },
   "outputs": [],
   "source": [
    "import tensorflow as tf\n",
    "import numpy as np\n",
    "import matplotlib.pyplot as plt"
   ]
  },
  {
   "cell_type": "code",
   "execution_count": 2,
   "metadata": {
    "executionInfo": {
     "elapsed": 603,
     "status": "ok",
     "timestamp": 1702497740032,
     "user": {
      "displayName": "205105 205105",
      "userId": "02582205350892334800"
     },
     "user_tz": -120
    },
    "id": "-V9BJrz5bq9T"
   },
   "outputs": [],
   "source": [
    "fashion_mnist=tf.keras.datasets.fashion_mnist"
   ]
  },
  {
   "cell_type": "code",
   "execution_count": 3,
   "metadata": {
    "colab": {
     "base_uri": "https://localhost:8080/"
    },
    "executionInfo": {
     "elapsed": 1898,
     "status": "ok",
     "timestamp": 1702497743660,
     "user": {
      "displayName": "205105 205105",
      "userId": "02582205350892334800"
     },
     "user_tz": -120
    },
    "id": "IlXNX2_TcVFG",
    "outputId": "11adc2c5-a819-428c-9f91-e5eeeb688f2b"
   },
   "outputs": [
    {
     "name": "stdout",
     "output_type": "stream",
     "text": [
      "Downloading data from https://storage.googleapis.com/tensorflow/tf-keras-datasets/train-labels-idx1-ubyte.gz\n",
      "29515/29515 [==============================] - 0s 0us/step\n",
      "Downloading data from https://storage.googleapis.com/tensorflow/tf-keras-datasets/train-images-idx3-ubyte.gz\n",
      "26421880/26421880 [==============================] - 0s 0us/step\n",
      "Downloading data from https://storage.googleapis.com/tensorflow/tf-keras-datasets/t10k-labels-idx1-ubyte.gz\n",
      "5148/5148 [==============================] - 0s 0us/step\n",
      "Downloading data from https://storage.googleapis.com/tensorflow/tf-keras-datasets/t10k-images-idx3-ubyte.gz\n",
      "4422102/4422102 [==============================] - 0s 0us/step\n"
     ]
    }
   ],
   "source": [
    "(train_images,train_labels),(test_images,test_labels)=fashion_mnist.load_data()"
   ]
  },
  {
   "cell_type": "code",
   "execution_count": 4,
   "metadata": {
    "executionInfo": {
     "elapsed": 11,
     "status": "ok",
     "timestamp": 1702497744040,
     "user": {
      "displayName": "205105 205105",
      "userId": "02582205350892334800"
     },
     "user_tz": -120
    },
    "id": "6M-GfuEmckqF"
   },
   "outputs": [],
   "source": [
    "class_names=['t-shirt/top','trousure','pullover','dress','coat',\n",
    "             'sandal','shirt','sneaker','bag','ankle boot']"
   ]
  },
  {
   "cell_type": "code",
   "execution_count": 5,
   "metadata": {
    "colab": {
     "base_uri": "https://localhost:8080/"
    },
    "executionInfo": {
     "elapsed": 363,
     "status": "ok",
     "timestamp": 1702497746831,
     "user": {
      "displayName": "205105 205105",
      "userId": "02582205350892334800"
     },
     "user_tz": -120
    },
    "id": "uvhfXTw3c-Me",
    "outputId": "3a7212d8-4566-47bc-82d2-4df7c81e896c"
   },
   "outputs": [
    {
     "data": {
      "text/plain": [
       "(60000, 28, 28)"
      ]
     },
     "execution_count": 5,
     "metadata": {},
     "output_type": "execute_result"
    }
   ],
   "source": [
    "train_images.shape"
   ]
  },
  {
   "cell_type": "code",
   "execution_count": 6,
   "metadata": {
    "colab": {
     "base_uri": "https://localhost:8080/"
    },
    "executionInfo": {
     "elapsed": 10,
     "status": "ok",
     "timestamp": 1702497748457,
     "user": {
      "displayName": "205105 205105",
      "userId": "02582205350892334800"
     },
     "user_tz": -120
    },
    "id": "Q42YJXLydOpC",
    "outputId": "b2a5f23d-09dd-4192-e9e3-2b3780b5a51f"
   },
   "outputs": [
    {
     "data": {
      "text/plain": [
       "60000"
      ]
     },
     "execution_count": 6,
     "metadata": {},
     "output_type": "execute_result"
    }
   ],
   "source": [
    "len(train_labels)"
   ]
  },
  {
   "cell_type": "code",
   "execution_count": 7,
   "metadata": {
    "colab": {
     "base_uri": "https://localhost:8080/"
    },
    "executionInfo": {
     "elapsed": 12,
     "status": "ok",
     "timestamp": 1702497749973,
     "user": {
      "displayName": "205105 205105",
      "userId": "02582205350892334800"
     },
     "user_tz": -120
    },
    "id": "AaHHtMuYdR0-",
    "outputId": "299b9145-eabe-407a-c4ed-f542f16864ad"
   },
   "outputs": [
    {
     "data": {
      "text/plain": [
       "array([9, 0, 0, ..., 3, 0, 5], dtype=uint8)"
      ]
     },
     "execution_count": 7,
     "metadata": {},
     "output_type": "execute_result"
    }
   ],
   "source": [
    "train_labels"
   ]
  },
  {
   "cell_type": "code",
   "execution_count": 8,
   "metadata": {
    "colab": {
     "base_uri": "https://localhost:8080/"
    },
    "executionInfo": {
     "elapsed": 11,
     "status": "ok",
     "timestamp": 1702497751541,
     "user": {
      "displayName": "205105 205105",
      "userId": "02582205350892334800"
     },
     "user_tz": -120
    },
    "id": "fsZEEIMTdUff",
    "outputId": "56de3af4-3e4a-4f27-8bcc-736262815f16"
   },
   "outputs": [
    {
     "data": {
      "text/plain": [
       "(10000, 28, 28)"
      ]
     },
     "execution_count": 8,
     "metadata": {},
     "output_type": "execute_result"
    }
   ],
   "source": [
    "test_images.shape"
   ]
  },
  {
   "cell_type": "code",
   "execution_count": 9,
   "metadata": {
    "colab": {
     "base_uri": "https://localhost:8080/"
    },
    "executionInfo": {
     "elapsed": 780,
     "status": "ok",
     "timestamp": 1702497754810,
     "user": {
      "displayName": "205105 205105",
      "userId": "02582205350892334800"
     },
     "user_tz": -120
    },
    "id": "SQBfAxc7dXmb",
    "outputId": "6d95e93b-460f-4a82-84b1-8b9ea90c8ef8"
   },
   "outputs": [
    {
     "data": {
      "text/plain": [
       "10000"
      ]
     },
     "execution_count": 9,
     "metadata": {},
     "output_type": "execute_result"
    }
   ],
   "source": [
    "len(test_labels)"
   ]
  },
  {
   "cell_type": "code",
   "execution_count": 10,
   "metadata": {
    "colab": {
     "base_uri": "https://localhost:8080/",
     "height": 430
    },
    "executionInfo": {
     "elapsed": 20,
     "status": "ok",
     "timestamp": 1702497757012,
     "user": {
      "displayName": "205105 205105",
      "userId": "02582205350892334800"
     },
     "user_tz": -120
    },
    "id": "9ljXAYH3dbZ5",
    "outputId": "761f50b5-2a20-4957-c615-563ad0f1c190"
   },
   "outputs": [
    {
     "data": {
      "image/png": "[encoded data removed]",
      "text/plain": [
       "<Figure size 640x480 with 2 Axes>"
      ]
     },
     "metadata": {},
     "output_type": "display_data"
    }
   ],
   "source": [
    "plt.figure()\n",
    "plt.imshow(train_images[0])\n",
    "plt.colorbar()\n",
    "plt.grid(False)\n",
    "plt.show()"
   ]
  },
  {
   "cell_type": "code",
   "execution_count": 11,
   "metadata": {
    "executionInfo": {
     "elapsed": 373,
     "status": "ok",
     "timestamp": 1702497759365,
     "user": {
      "displayName": "205105 205105",
      "userId": "02582205350892334800"
     },
     "user_tz": -120
    },
    "id": "3aK7jUFHdus2"
   },
   "outputs": [],
   "source": [
    "train_images=train_images/255.0\n",
    "test_images=test_images/255.0"
   ]
  },
  {
   "cell_type": "code",
   "execution_count": 24,
   "metadata": {
    "colab": {
     "base_uri": "https://localhost:8080/",
     "height": 826
    },
    "executionInfo": {
     "elapsed": 3719,
     "status": "ok",
     "timestamp": 1702497882932,
     "user": {
      "displayName": "205105 205105",
      "userId": "02582205350892334800"
     },
     "user_tz": -120
    },
    "id": "5K_3wipWd6ra",
    "outputId": "78111ae3-8189-460e-c161-f9b65fe528bd"
   },
   "outputs": [
    {
     "data": {
      "image/png": "[encoded data removed]",
      "text/plain": [
       "<Figure size 1000x1000 with 25 Axes>"
      ]
     },
     "metadata": {},
     "output_type": "display_data"
    }
   ],
   "source": [
    "plt.figure(figsize=(10,10))\n",
    "for i in range(25):\n",
    "  plt.subplot(5,5,i+1)\n",
    "  plt.xticks([])\n",
    "  plt.yticks([])\n",
    "  plt.grid(False)\n",
    "  plt.imshow(train_images[i],cmap=plt.cm.binary)\n",
    "  plt.xlabel(class_names[train_labels[i]])\n",
    "plt.show()"
   ]
  },
  {
   "cell_type": "code",
   "execution_count": 13,
   "metadata": {
    "executionInfo": {
     "elapsed": 372,
     "status": "ok",
     "timestamp": 1702497766834,
     "user": {
      "displayName": "205105 205105",
      "userId": "02582205350892334800"
     },
     "user_tz": -120
    },
    "id": "OEjJRnlte9S0"
   },
   "outputs": [],
   "source": [
    "model=tf.keras.Sequential([\n",
    "    tf.keras.layers.Flatten(input_shape=(28,28)),\n",
    "    tf.keras.layers.Dense(128,activation='relu'),\n",
    "    tf.keras.layers.Dense(10)\n",
    "])"
   ]
  },
  {
   "cell_type": "code",
   "execution_count": 14,
   "metadata": {
    "executionInfo": {
     "elapsed": 14,
     "status": "ok",
     "timestamp": 1702497768559,
     "user": {
      "displayName": "205105 205105",
      "userId": "02582205350892334800"
     },
     "user_tz": -120
    },
    "id": "ZBSlIktVfn0t"
   },
   "outputs": [],
   "source": [
    "model.compile(optimizer='adam',\n",
    "loss=tf.keras.losses.SparseCategoricalCrossentropy(from_logits=True),\n",
    "metrics=['accuracy'])\n"
   ]
  },
  {
   "cell_type": "code",
   "execution_count": 15,
   "metadata": {
    "colab": {
     "base_uri": "https://localhost:8080/"
    },
    "executionInfo": {
     "elapsed": 81749,
     "status": "ok",
     "timestamp": 1702497852226,
     "user": {
      "displayName": "205105 205105",
      "userId": "02582205350892334800"
     },
     "user_tz": -120
    },
    "id": "WIyAg6ESgM-W",
    "outputId": "94572f42-6137-4adf-db17-2eddd4686a12"
   },
   "outputs": [
    {
     "name": "stdout",
     "output_type": "stream",
     "text": [
      "Epoch 1/10\n",
      "1875/1875 [==============================] - 9s 4ms/step - loss: 0.5023 - accuracy: 0.8239\n",
      "Epoch 2/10\n",
      "1875/1875 [==============================] - 7s 4ms/step - loss: 0.3734 - accuracy: 0.8649\n",
      "Epoch 3/10\n",
      "1875/1875 [==============================] - 8s 4ms/step - loss: 0.3374 - accuracy: 0.8754\n",
      "Epoch 4/10\n",
      "1875/1875 [==============================] - 8s 4ms/step - loss: 0.3106 - accuracy: 0.8852\n",
      "Epoch 5/10\n",
      "1875/1875 [==============================] - 7s 4ms/step - loss: 0.2941 - accuracy: 0.8922\n",
      "Epoch 6/10\n",
      "1875/1875 [==============================] - 8s 4ms/step - loss: 0.2798 - accuracy: 0.8964\n",
      "Epoch 7/10\n",
      "1875/1875 [==============================] - 6s 3ms/step - loss: 0.2681 - accuracy: 0.8998\n",
      "Epoch 8/10\n",
      "1875/1875 [==============================] - 8s 4ms/step - loss: 0.2576 - accuracy: 0.9030\n",
      "Epoch 9/10\n",
      "1875/1875 [==============================] - 12s 6ms/step - loss: 0.2469 - accuracy: 0.9085\n",
      "Epoch 10/10\n",
      "1875/1875 [==============================] - 8s 4ms/step - loss: 0.2381 - accuracy: 0.9110\n"
     ]
    },
    {
     "data": {
      "text/plain": [
       "<keras.src.callbacks.History at 0x7b7af128f370>"
      ]
     },
     "execution_count": 15,
     "metadata": {},
     "output_type": "execute_result"
    }
   ],
   "source": [
    "model.fit(train_images,train_labels,epochs=10)"
   ]
  },
  {
   "cell_type": "code",
   "execution_count": 16,
   "metadata": {
    "colab": {
     "base_uri": "https://localhost:8080/"
    },
    "executionInfo": {
     "elapsed": 545,
     "status": "ok",
     "timestamp": 1702497853251,
     "user": {
      "displayName": "205105 205105",
      "userId": "02582205350892334800"
     },
     "user_tz": -120
    },
    "id": "GK7fFsMdhMw7",
    "outputId": "9d456cca-4dc4-4eef-9786-46b37983f2d4"
   },
   "outputs": [
    {
     "name": "stdout",
     "output_type": "stream",
     "text": [
      "313/313 - 1s - loss: 0.3608 - accuracy: 0.8729 - 647ms/epoch - 2ms/step\n"
     ]
    }
   ],
   "source": [
    "test_loss, test_acc=model.evaluate(test_images,test_labels,verbose=2)"
   ]
  },
  {
   "cell_type": "code",
   "execution_count": 17,
   "metadata": {
    "colab": {
     "base_uri": "https://localhost:8080/"
    },
    "executionInfo": {
     "elapsed": 679,
     "status": "ok",
     "timestamp": 1702497856155,
     "user": {
      "displayName": "205105 205105",
      "userId": "02582205350892334800"
     },
     "user_tz": -120
    },
    "id": "jsx6WKdFifFz",
    "outputId": "cb47643c-547f-4bd7-e20b-40008d570888"
   },
   "outputs": [
    {
     "name": "stdout",
     "output_type": "stream",
     "text": [
      "0.8729000091552734\n"
     ]
    }
   ],
   "source": [
    "print(test_acc)"
   ]
  },
  {
   "cell_type": "code",
   "execution_count": 18,
   "metadata": {
    "executionInfo": {
     "elapsed": 511,
     "status": "ok",
     "timestamp": 1702497859057,
     "user": {
      "displayName": "205105 205105",
      "userId": "02582205350892334800"
     },
     "user_tz": -120
    },
    "id": "288pVxEVik5M"
   },
   "outputs": [],
   "source": [
    "from sklearn.metrics import classification_report, confusion_matrix"
   ]
  },
  {
   "cell_type": "code",
   "execution_count": 19,
   "metadata": {
    "colab": {
     "base_uri": "https://localhost:8080/"
    },
    "executionInfo": {
     "elapsed": 1012,
     "status": "ok",
     "timestamp": 1702497861059,
     "user": {
      "displayName": "205105 205105",
      "userId": "02582205350892334800"
     },
     "user_tz": -120
    },
    "id": "Jitv-3cflOS7",
    "outputId": "9525482f-0468-4026-9db2-0850d2c0d344"
   },
   "outputs": [
    {
     "name": "stdout",
     "output_type": "stream",
     "text": [
      "313/313 [==============================] - 1s 2ms/step\n"
     ]
    }
   ],
   "source": [
    "pred=model.predict(test_images)"
   ]
  },
  {
   "cell_type": "code",
   "execution_count": 20,
   "metadata": {
    "executionInfo": {
     "elapsed": 374,
     "status": "ok",
     "timestamp": 1702497864090,
     "user": {
      "displayName": "205105 205105",
      "userId": "02582205350892334800"
     },
     "user_tz": -120
    },
    "id": "dpLJRR_4l18j"
   },
   "outputs": [],
   "source": [
    "pred=np.argmax(pred,axis=-1)"
   ]
  },
  {
   "cell_type": "code",
   "execution_count": 21,
   "metadata": {
    "colab": {
     "base_uri": "https://localhost:8080/"
    },
    "executionInfo": {
     "elapsed": 12,
     "status": "ok",
     "timestamp": 1702497865723,
     "user": {
      "displayName": "205105 205105",
      "userId": "02582205350892334800"
     },
     "user_tz": -120
    },
    "id": "iAlkLH0AnJWR",
    "outputId": "1ea8448c-d5ad-4184-c2d7-f772acb7dfe8"
   },
   "outputs": [
    {
     "data": {
      "text/plain": [
       "array([9, 2, 1, ..., 8, 1, 5])"
      ]
     },
     "execution_count": 21,
     "metadata": {},
     "output_type": "execute_result"
    }
   ],
   "source": [
    "pred"
   ]
  },
  {
   "cell_type": "code",
   "execution_count": 22,
   "metadata": {
    "colab": {
     "base_uri": "https://localhost:8080/"
    },
    "executionInfo": {
     "elapsed": 14,
     "status": "ok",
     "timestamp": 1702497867926,
     "user": {
      "displayName": "205105 205105",
      "userId": "02582205350892334800"
     },
     "user_tz": -120
    },
    "id": "i4unr1l-ivTE",
    "outputId": "6d2a2951-aa9b-47cf-eaff-295e024069bb"
   },
   "outputs": [
    {
     "name": "stdout",
     "output_type": "stream",
     "text": [
      "              precision    recall  f1-score   support\n",
      "\n",
      "           0       0.86      0.81      0.84      1000\n",
      "           1       0.99      0.97      0.98      1000\n",
      "           2       0.74      0.82      0.78      1000\n",
      "           3       0.85      0.92      0.88      1000\n",
      "           4       0.88      0.60      0.72      1000\n",
      "           5       0.97      0.97      0.97      1000\n",
      "           6       0.62      0.76      0.69      1000\n",
      "           7       0.93      0.96      0.95      1000\n",
      "           8       0.99      0.96      0.97      1000\n",
      "           9       0.97      0.94      0.96      1000\n",
      "\n",
      "    accuracy                           0.87     10000\n",
      "   macro avg       0.88      0.87      0.87     10000\n",
      "weighted avg       0.88      0.87      0.87     10000\n",
      "\n"
     ]
    }
   ],
   "source": [
    "print(classification_report(test_labels,pred))"
   ]
  },
  {
   "cell_type": "code",
   "execution_count": 23,
   "metadata": {
    "colab": {
     "base_uri": "https://localhost:8080/"
    },
    "executionInfo": {
     "elapsed": 381,
     "status": "ok",
     "timestamp": 1702497871693,
     "user": {
      "displayName": "205105 205105",
      "userId": "02582205350892334800"
     },
     "user_tz": -120
    },
    "id": "wMx9qCzZjeLU",
    "outputId": "bedda1f5-1288-4046-f3dc-f393a5abbe7a"
   },
   "outputs": [
    {
     "name": "stdout",
     "output_type": "stream",
     "text": [
      "[[812   2   8  26   1   1 146   0   4   0]\n",
      " [  3 973   0  17   2   0   4   0   1   0]\n",
      " [ 13   0 821  16  30   0 119   0   1   0]\n",
      " [ 16   2   3 924  15   0  37   0   3   0]\n",
      " [  0   1 202  60 602   0 135   0   0   0]\n",
      " [  0   0   0   1   0 966   0  19   1  13]\n",
      " [ 95   0  67  41  29   0 764   0   4   0]\n",
      " [  0   0   0   0   0  21   0 964   0  15]\n",
      " [  3   0   2   7   3   1  21   3 960   0]\n",
      " [  0   0   0   0   0  10   1  46   0 943]]\n"
     ]
    }
   ],
   "source": [
    "print(confusion_matrix(test_labels,pred))"
   ]
  },
  {
   "cell_type": "code",
   "execution_count": null,
   "metadata": {
    "id": "ayXBApntyTKF"
   },
   "outputs": [],
   "source": []
  }
 ],
 "metadata": {
  "colab": {
   "provenance": []
  },
  "kernelspec": {
   "display_name": "Python 3 (ipykernel)",
   "language": "python",
   "name": "python3"
  },
  "language_info": {
   "codemirror_mode": {
    "name": "ipython",
    "version": 3
   },
   "file_extension": ".py",
   "mimetype": "text/x-python",
   "name": "python",
   "nbconvert_exporter": "python",
   "pygments_lexer": "ipython3",
   "version": "3.9.7"
  }
 },
 "nbformat": 4,
 "nbformat_minor": 1
}
